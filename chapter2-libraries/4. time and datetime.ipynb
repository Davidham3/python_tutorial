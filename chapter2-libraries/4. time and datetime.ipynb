{
 "cells": [
  {
   "cell_type": "markdown",
   "metadata": {},
   "source": [
    "python有专门处理时间的模块time和datetime，后者在处理日期上比前者更强"
   ]
  },
  {
   "cell_type": "code",
   "execution_count": 1,
   "metadata": {
    "collapsed": true
   },
   "outputs": [],
   "source": [
    "import time"
   ]
  },
  {
   "cell_type": "markdown",
   "metadata": {},
   "source": [
    "获取当前的时间戳，每个时间戳都表示1970年1月1日到现在的时间长度，返回的是一个浮点型数字"
   ]
  },
  {
   "cell_type": "code",
   "execution_count": 2,
   "metadata": {},
   "outputs": [
    {
     "name": "stdout",
     "output_type": "stream",
     "text": [
      "current time stamp: 1516465433.8278453\n"
     ]
    }
   ],
   "source": [
    "print('current time stamp:', time.time())"
   ]
  },
  {
   "cell_type": "markdown",
   "metadata": {},
   "source": [
    "有一个常用的函数是time.sleep(x)，该函数的作用是睡眠x秒"
   ]
  },
  {
   "cell_type": "code",
   "execution_count": 3,
   "metadata": {},
   "outputs": [
    {
     "name": "stdout",
     "output_type": "stream",
     "text": [
      "3.000084400177002\n"
     ]
    }
   ],
   "source": [
    "# 获取当前的时间戳\n",
    "t = time.time()\n",
    "\n",
    "# 睡眠3秒\n",
    "time.sleep(3)\n",
    "\n",
    "# 用现在的时间戳减去t\n",
    "print(time.time() - t)"
   ]
  },
  {
   "cell_type": "code",
   "execution_count": 4,
   "metadata": {
    "collapsed": true
   },
   "outputs": [],
   "source": [
    "import datetime"
   ]
  },
  {
   "cell_type": "markdown",
   "metadata": {},
   "source": [
    "使用datetime下的datetime获取当前时间"
   ]
  },
  {
   "cell_type": "code",
   "execution_count": 5,
   "metadata": {
    "scrolled": true
   },
   "outputs": [
    {
     "data": {
      "text/plain": [
       "(datetime.datetime(2018, 1, 21, 0, 23, 57, 257886), datetime.datetime)"
      ]
     },
     "execution_count": 5,
     "metadata": {},
     "output_type": "execute_result"
    }
   ],
   "source": [
    "datetime.datetime.now(), type(datetime.datetime.now())"
   ]
  },
  {
   "cell_type": "markdown",
   "metadata": {},
   "source": [
    "可以看到datetime.now()是一个datetime类型的变量，我们可以用datetime.datetime.strftime将其转换为字符串，第一个参数是datetime类型的变量，第二个参数是格式字符串"
   ]
  },
  {
   "cell_type": "code",
   "execution_count": 6,
   "metadata": {},
   "outputs": [
    {
     "data": {
      "text/plain": [
       "'2018/01/21/00:23'"
      ]
     },
     "execution_count": 6,
     "metadata": {},
     "output_type": "execute_result"
    }
   ],
   "source": [
    "datetime.datetime.strftime(datetime.datetime.now(), '%Y/%m/%d/%H:%M')"
   ]
  },
  {
   "cell_type": "markdown",
   "metadata": {},
   "source": [
    "我们可以设定字符串的格式，python中通过以下符号格式化时间：  \n",
    "%y 两位数的年份表示（00-99）  \n",
    "%Y 四位数的年份表示（000-9999）  \n",
    "%m 月份（01-12）  \n",
    "%d 月内中的一天（0-31）  \n",
    "%H 24小时制小时数（0-23）  \n",
    "%I 12小时制小时数（01-12）   \n",
    "%M 分钟数（00=59）  \n",
    "%S 秒（00-59）  \n",
    "\n",
    "%a 本地简化星期名称  \n",
    "%A 本地完整星期名称  \n",
    "%b 本地简化的月份名称  \n",
    "%B 本地完整的月份名称  \n",
    "%c 本地相应的日期表示和时间表示  \n",
    "%j 年内的一天（001-366）  \n",
    "%p 本地A.M.或P.M.的等价符  \n",
    "%U 一年中的星期数（00-53）星期天为星期的开始  \n",
    "%w 星期（0-6），星期天为星期的开始  \n",
    "%W 一年中的星期数（00-53）星期一为星期的开始  \n",
    "%x 本地相应的日期表示  \n",
    "%X 本地相应的时间表示  \n",
    "%Z 当前时区的名称  "
   ]
  },
  {
   "cell_type": "code",
   "execution_count": 7,
   "metadata": {},
   "outputs": [
    {
     "data": {
      "text/plain": [
       "'2018'"
      ]
     },
     "execution_count": 7,
     "metadata": {},
     "output_type": "execute_result"
    }
   ],
   "source": [
    "datetime.datetime.strftime(datetime.datetime.now(), '%Y')"
   ]
  },
  {
   "cell_type": "code",
   "execution_count": 8,
   "metadata": {},
   "outputs": [
    {
     "data": {
      "text/plain": [
       "'2018-01-21-00-23'"
      ]
     },
     "execution_count": 8,
     "metadata": {},
     "output_type": "execute_result"
    }
   ],
   "source": [
    "datetime.datetime.strftime(datetime.datetime.now(), '%Y-%m-%d-%H-%M')"
   ]
  },
  {
   "cell_type": "markdown",
   "metadata": {},
   "source": [
    "我们也可以将一个类似时间类型的字符串转换为datetime类型，使用datetime.strptime，第一个参数是时间字符串，第二个参数是格式字符串"
   ]
  },
  {
   "cell_type": "code",
   "execution_count": 9,
   "metadata": {},
   "outputs": [
    {
     "data": {
      "text/plain": [
       "datetime.datetime(2018, 1, 18, 9, 0)"
      ]
     },
     "execution_count": 9,
     "metadata": {},
     "output_type": "execute_result"
    }
   ],
   "source": [
    "datetime.datetime.strptime('2018-01-18-09:00', '%Y-%m-%d-%H:%M')"
   ]
  },
  {
   "cell_type": "markdown",
   "metadata": {},
   "source": [
    "datetime类型强大的地方在于其的计算能力"
   ]
  },
  {
   "cell_type": "code",
   "execution_count": 10,
   "metadata": {
    "scrolled": true
   },
   "outputs": [
    {
     "name": "stdout",
     "output_type": "stream",
     "text": [
      "1:00:00\n",
      "<class 'datetime.timedelta'>\n"
     ]
    }
   ],
   "source": [
    "t1 = datetime.datetime.strptime('2018-01-18-09:00', '%Y-%m-%d-%H:%M')\n",
    "t2 = datetime.datetime.strptime('2018-01-18-10:00', '%Y-%m-%d-%H:%M')\n",
    "print(t2 - t1)\n",
    "print(type(t2 - t1))"
   ]
  },
  {
   "cell_type": "markdown",
   "metadata": {},
   "source": [
    "我们在上个一个cell中展示了一个datetime相减的例子，可以看到t2-t1得到了一个timedelta类型的变量，我们可以用(t2 - t1).days获取时间差为多少天，用.seconds获取时间差为多少秒，这两个属性均为整数"
   ]
  },
  {
   "cell_type": "code",
   "execution_count": 11,
   "metadata": {},
   "outputs": [
    {
     "name": "stdout",
     "output_type": "stream",
     "text": [
      "days: 0\n",
      "seconds: 3600\n",
      "<class 'int'>\n",
      "<class 'int'>\n"
     ]
    }
   ],
   "source": [
    "print('days:', (t2 - t1).days)\n",
    "print('seconds:', (t2 - t1).seconds)\n",
    "print(type((t2 - t1).days))\n",
    "print(type((t2 - t1).seconds))"
   ]
  },
  {
   "cell_type": "markdown",
   "metadata": {},
   "source": [
    "当然，我们也可以直接新建一个timedelta类型的变量"
   ]
  },
  {
   "cell_type": "code",
   "execution_count": 12,
   "metadata": {},
   "outputs": [
    {
     "name": "stdout",
     "output_type": "stream",
     "text": [
      "1 day, 0:00:00\n"
     ]
    }
   ],
   "source": [
    "# 新建一个时间差为1的timedelta变量\n",
    "delta_t1 = datetime.timedelta(days = 1)\n",
    "print(delta_t1)"
   ]
  },
  {
   "cell_type": "code",
   "execution_count": 13,
   "metadata": {},
   "outputs": [
    {
     "name": "stdout",
     "output_type": "stream",
     "text": [
      "2018-01-21 00:23:58.471986\n"
     ]
    }
   ],
   "source": [
    "# 获取当前时间\n",
    "t1 = datetime.datetime.now()\n",
    "print(t1)"
   ]
  },
  {
   "cell_type": "code",
   "execution_count": 14,
   "metadata": {},
   "outputs": [
    {
     "name": "stdout",
     "output_type": "stream",
     "text": [
      "2018-01-22 00:23:58.471986\n"
     ]
    }
   ],
   "source": [
    "# 将delta_t1与t1相加\n",
    "print(t1 + delta_t1)"
   ]
  },
  {
   "cell_type": "code",
   "execution_count": 15,
   "metadata": {},
   "outputs": [
    {
     "name": "stdout",
     "output_type": "stream",
     "text": [
      "-1 day, 0:00:00\n"
     ]
    }
   ],
   "source": [
    "# 新建一个时间差为-1的timedelta变量\n",
    "delta_t2 = datetime.timedelta(days = -1)\n",
    "print(delta_t2)"
   ]
  },
  {
   "cell_type": "code",
   "execution_count": 16,
   "metadata": {},
   "outputs": [
    {
     "name": "stdout",
     "output_type": "stream",
     "text": [
      "2018-01-20 00:23:58.471986\n"
     ]
    }
   ],
   "source": [
    "# 将delta_t2与t1相加\n",
    "print(t1 + delta_t2)"
   ]
  },
  {
   "cell_type": "markdown",
   "metadata": {},
   "source": [
    "使用datetime.datetiem.weekday()这个方法可以获得某个datetime变量那天是星期几，返回的是0到6的整数，分别表示星期一到星期日"
   ]
  },
  {
   "cell_type": "code",
   "execution_count": 17,
   "metadata": {},
   "outputs": [
    {
     "name": "stdout",
     "output_type": "stream",
     "text": [
      "昨天是周几？ 5\n",
      "今天是周几？ 6\n",
      "明天是周几？ 0\n"
     ]
    }
   ],
   "source": [
    "print('昨天是周几？', datetime.datetime.weekday(t1 + delta_t2))\n",
    "print('今天是周几？', datetime.datetime.weekday(t1))\n",
    "print('明天是周几？', datetime.datetime.weekday(t1 + delta_t1))"
   ]
  },
  {
   "cell_type": "code",
   "execution_count": 18,
   "metadata": {
    "collapsed": true
   },
   "outputs": [],
   "source": [
    "weekday_dict = {0: '一', 1: '二', 2: '三', 3: '四', 4: '五', 5: '六', 6: '日'}"
   ]
  },
  {
   "cell_type": "code",
   "execution_count": 19,
   "metadata": {},
   "outputs": [
    {
     "name": "stdout",
     "output_type": "stream",
     "text": [
      "昨天是周六\n",
      "今天是周日\n",
      "明天是周一\n"
     ]
    }
   ],
   "source": [
    "print('昨天是周%s'%(weekday_dict[datetime.datetime.weekday(t1 + delta_t2)]))\n",
    "print('今天是周%s'%(weekday_dict[datetime.datetime.weekday(t1)]))\n",
    "print('明天是周%s'%(weekday_dict[datetime.datetime.weekday(t1 + delta_t1)]))"
   ]
  },
  {
   "cell_type": "markdown",
   "metadata": {},
   "source": [
    "这两个库还有很多操作，可以使用help函数查看"
   ]
  }
 ],
 "metadata": {
  "kernelspec": {
   "display_name": "Python 3",
   "language": "python",
   "name": "python3"
  },
  "language_info": {
   "codemirror_mode": {
    "name": "ipython",
    "version": 3
   },
   "file_extension": ".py",
   "mimetype": "text/x-python",
   "name": "python",
   "nbconvert_exporter": "python",
   "pygments_lexer": "ipython3",
   "version": "3.6.1"
  }
 },
 "nbformat": 4,
 "nbformat_minor": 2
}
